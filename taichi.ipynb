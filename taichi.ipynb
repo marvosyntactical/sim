{
 "cells": [
  {
   "cell_type": "markdown",
   "metadata": {
    "colab_type": "text",
    "id": "view-in-github"
   },
   "source": [
    "<a href=\"https://colab.research.google.com/github/google/jax-md/blob/periodic_general_refactor/notebooks/meta_optimization.ipynb\" target=\"_parent\"><img src=\"https://colab.research.google.com/assets/colab-badge.svg\" alt=\"Open In Colab\"/></a>"
   ]
  },
  {
   "cell_type": "markdown",
   "metadata": {
    "id": "f8ZH9ERvVzDF"
   },
   "source": [
    "Copyright 2020 Google LLC\n",
    "\n",
    "Licensed under the Apache License, Version 2.0 (the \"License\");\n",
    "you may not use this file except in compliance with the License.\n",
    "You may obtain a copy of the License at\n",
    "\n",
    "     https://www.apache.org/licenses/LICENSE-2.0\n",
    "\n",
    "Unless required by applicable law or agreed to in writing, software\n",
    "distributed under the License is distributed on an \"AS IS\" BASIS,\n",
    "WITHOUT WARRANTIES OR CONDITIONS OF ANY KIND, either express or implied.\n",
    "See the License for the specific language governing permissions and\n",
    "limitations under the License."
   ]
  },
  {
   "cell_type": "code",
   "execution_count": 374,
   "metadata": {
    "cellView": "form",
    "id": "sPqQYKAtMp9f"
   },
   "outputs": [
    {
     "name": "stdout",
     "output_type": "stream",
     "text": [
      "[Taichi] Starting on arch=x64\n"
     ]
    }
   ],
   "source": [
    "import taichi as ti\n",
    "ti.init(random_seed=42, arch=ti.cpu, debug=True, advanced_optimization=False)\n",
    "\n",
    "import numpy as np\n",
    "# Matplotlib settings.\n",
    "import matplotlib\n",
    "import matplotlib.pyplot as plt"
   ]
  },
  {
   "cell_type": "code",
   "execution_count": 375,
   "metadata": {},
   "outputs": [],
   "source": [
    "# helpers:\n"
   ]
  },
  {
   "cell_type": "markdown",
   "metadata": {
    "id": "_tu1Isw1Pyvi"
   },
   "source": [
    "## Optimization Through Dynamics"
   ]
  },
  {
   "cell_type": "code",
   "execution_count": 376,
   "metadata": {},
   "outputs": [],
   "source": [
    "# ti helper funcs\n",
    "dim=2\n",
    "real = ti.f32\n",
    "discrete = lambda: ti.field(dtype=real, shape=(1))\n",
    "scalar = lambda **kwargs: ti.field(dtype=real,**kwargs)\n",
    "vector = lambda **kwargs: ti.Vector.field(dim, dtype=real, **kwargs)"
   ]
  },
  {
   "cell_type": "code",
   "execution_count": 377,
   "metadata": {},
   "outputs": [
    {
     "name": "stdout",
     "output_type": "stream",
     "text": [
      "[Taichi] materializing...\n",
      "[15.]\n"
     ]
    },
    {
     "data": {
      "text/plain": [
       "\u001b[0;31mSignature:\u001b[0m \u001b[0mti\u001b[0m\u001b[0;34m.\u001b[0m\u001b[0mrsqrt\u001b[0m\u001b[0;34m(\u001b[0m\u001b[0ma\u001b[0m\u001b[0;34m)\u001b[0m\u001b[0;34m\u001b[0m\u001b[0;34m\u001b[0m\u001b[0m\n",
       "\u001b[0;31mDocstring:\u001b[0m <no docstring>\n",
       "\u001b[0;31mFile:\u001b[0m      ~/fun/simulation/simz/lib/python3.8/site-packages/taichi/lang/ops.py\n",
       "\u001b[0;31mType:\u001b[0m      function\n"
      ]
     },
     "metadata": {},
     "output_type": "display_data"
    }
   ],
   "source": [
    "# example kernel updating scalar:\n",
    "ti.reset() # resets kernel, can only assign ti field variables until next (first) kernel call\n",
    "my_scalar = ti.field(dtype=real, shape=(1))\n",
    "\n",
    "@ti.kernel\n",
    "def update_my_scalar():\n",
    "    for t in range(3):\n",
    "        my_scalar[0] += 5\n",
    "update_my_scalar()\n",
    "print(my_scalar)\n",
    "\n",
    "ti.rsqrt?"
   ]
  },
  {
   "cell_type": "code",
   "execution_count": 378,
   "metadata": {},
   "outputs": [],
   "source": [
    "# init ti vars\n",
    "ti.reset() # reset ti kernel to be allowed to init variables\n",
    "\n",
    "dt = scalar()\n",
    "steps = 100\n",
    "\n",
    "height = 225\n",
    "width_to_height_ratio = 16/9.\n",
    "width = int(width_to_height_ratio * height)\n",
    "dy = 1/height # difference is smaller of height, width\n",
    "\n",
    "num_species = 4\n",
    "particles_per_species = 120\n",
    "N = num_species * particles_per_species\n",
    "Ndim = N * dim\n",
    "\n",
    "lr = 0.01\n",
    "\n",
    "# particle parameters\n",
    "repelling_force = scalar(needs_grad=True) # force active if r < separation radius\n",
    "temperature = scalar(needs_grad=True) # controls random fluctuations in particle velocities -> increases gradient variance\n",
    "friction_coef = scalar(needs_grad=True)  \n",
    "separation_radius = scalar(needs_grad=True) # mean separation radius\n",
    "interaction_radius = scalar(needs_grad=True) # mean interaction radius\n",
    "force_strength = scalar(needs_grad=True) # inter-particle force strength\n",
    "close_range_factor = scalar(needs_grad=True) # force strength multiplier at r=0\n",
    "dist_range_factor = scalar(needs_grad=True) # force strength multiplier at r=self.height\n",
    "stdev = scalar(needs_grad=True) # spread in species parameters -> increases gradient variance\n",
    "seed_range = scalar(needs_grad=True) # initial position spread\n",
    "\n",
    "params = [\n",
    "    dt,\n",
    "    repelling_force,\n",
    "    temperature,\n",
    "    friction_coef,\n",
    "    separation_radius,\n",
    "    interaction_radius,\n",
    "    force_strength,\n",
    "    close_range_factor,\n",
    "    dist_range_factor,\n",
    "    stdev,\n",
    "    seed_range\n",
    "]\n",
    "P = len(params)\n",
    "\n",
    "species     = np.array([[spec]*particles_per_species for spec in range(num_species)]).reshape(-1)\n",
    "force_radii = scalar()\n",
    "separation_ = scalar()\n",
    "intrprtcl_f = scalar()\n",
    "repulsive_f = scalar()\n",
    "\n",
    "# FIXME: I abuse ti.fields as N x 2 position/speed/force arrays. problem?\n",
    "# also abuse them as adjacency matrix (Dxy)\n",
    "\n",
    "# Game state:\n",
    "R = vector()\n",
    "V = vector()\n",
    "F = vector()\n",
    "Fupdated = vector()\n",
    "Dxy = vector()\n",
    "\n",
    "# loss\n",
    "complexity = scalar()"
   ]
  },
  {
   "cell_type": "code",
   "execution_count": 379,
   "metadata": {},
   "outputs": [],
   "source": [
    "# initialization kernels\n",
    "idx = lambda spec, prtcl: num_species * prtcl + spec\n",
    "\n",
    "# deprecated:\n",
    "# @ti.layout\n",
    "# def place():\n",
    " \n",
    "# neural network example:\n",
    "# ti.root.dense(ti.ij, (n_actuators, n_sin_waves)).place(weights)\n",
    "# ti.root.dense(ti.i, n_actuators).place(bias)\n",
    "\n",
    "# place N x 2 vectors\n",
    "# e.g. V = [steps, N] x 2\n",
    "ti.root.dense(ti.l, steps).dense(ti.i, N).place(\n",
    "    V, R, F, Fupdated\n",
    ")\n",
    "ti.root.dense(ti.ij, (N, N)).place(\n",
    "    force_radii, separation_, intrprtcl_f, repulsive_f\n",
    ")\n",
    "ti.root.dense(ti.l, steps).dense(ti.ij, (N, N)).place(\n",
    "    Dxy\n",
    ")\n",
    "\n",
    "# place scalars\n",
    "ti.root.place(*(params + [complexity]))\n",
    "ti.root.lazy_grad()\n",
    "\n",
    "@ti.kernel\n",
    "def set_ti_scalars():\n",
    "    dt[None] = 0.01\n",
    "\n",
    "    # set particle parameters\n",
    "    repelling_force[None] = 4.0 # force active if r < separation_radius\n",
    "    temperature[None] = 20.0 # controls random fluctuations in particle velocities -> increases gradient variance\n",
    "    friction_coef[None] = 90.0  \n",
    "    separation_radius[None] = 25.0 # mean separation radius\n",
    "    interaction_radius[None] = 25.0 # mean interaction radius\n",
    "    force_strength[None] = 10.0 # inter-particle force strength\n",
    "    close_range_factor[None] = 2.0 # force strength multiplier at r=0\n",
    "    dist_range_factor[None] = 2.0 # force strength multiplier at r=self.height\n",
    "    stdev[None] = 0.05 # spread in species parameters -> increases gradient variance\n",
    "    seed_range[None] = 0.9 # initial position spread\n",
    "    \n",
    "    complexity[None] = 0.0\n",
    "\n",
    "@ti.func\n",
    "def increment_vector_inplace(array_vector: ti.template(), magnitude: float, dy: float, dx: float):\n",
    "    # increment array_vector (which is/may be row in an [? x 2]) vector field)\n",
    "    theta = ti.atan2(dy, dx)\n",
    "    array_vector[0] += magnitude * ti.cos(theta)\n",
    "    array_vector[1] += magnitude * ti.sin(theta)\n",
    "    \n",
    "@ti.func\n",
    "def force_init_loop(t, i: ti.i32):\n",
    "    for j in range(N):\n",
    "        increment_vector_inplace(F[t, i], intrprtcl_f[i, j], Dxy[t, i, j][0], Dxy[t, i, j][1])\n",
    "        \n",
    "@ti.kernel\n",
    "def set_ti_vectors(t: ti.i32):\n",
    "    # takes in R, V, F and updates them, t should be 0\n",
    "    for prtcl in range(N):\n",
    "        half_seed = seed_range/2\n",
    "        center_x = width/2\n",
    "        center_y = height/2\n",
    "        \n",
    "        R[t, prtcl][0] = ti.random() * half_seed * width + center_x\n",
    "        R[t, prtcl][1] = ti.random() * half_seed * width + center_y\n",
    "        V[t, prtcl][0] = (ti.random() * 2 - 1)\n",
    "        V[t, prtcl][1] = (ti.random() * 2 - 1)\n",
    "    \n",
    "        # update F\n",
    "        force_init_loop(t, prtcl)\n",
    "    \n",
    "@ti.func\n",
    "def particle_assignment_loop(spec_a, spec_b, fr, sep, f, rep):\n",
    "    for prtcl_a in range(particles_per_species):\n",
    "        for prtcl_b in range(particles_per_species):\n",
    "            # assign\n",
    "            force_radii[idx(spec_a, prtcl_a), idx(spec_b, prtcl_b)] = fr\n",
    "            separation_[idx(spec_a, prtcl_a), idx(spec_b, prtcl_b)] = sep\n",
    "            intrprtcl_f[idx(spec_a, prtcl_a), idx(spec_b, prtcl_b)] = f\n",
    "            repulsive_f[idx(spec_a, prtcl_a), idx(spec_b, prtcl_b)] = rep\n",
    "    \n",
    "@ti.kernel\n",
    "def set_block_matrices():\n",
    "    # parameter matrices\n",
    "    for spec_a in range(num_species):\n",
    "        for spec_b in range(num_species):\n",
    "            # sample once for this species pair direction\n",
    "            fr = ti.abs((ti.randn() * stdev + 1) * interaction_radius)\n",
    "            sep = ti.abs((ti.randn() * stdev + 1) * separation_radius)\n",
    "            f = ti.randn() + force_strength\n",
    "            rep_force = ti.abs((ti.randn() * stdev + 1) * repelling_force)\n",
    "            \n",
    "            particle_assignment_loop(spec_a, spec_b, fr_sep, f, rep)"
   ]
  },
  {
   "cell_type": "code",
   "execution_count": 380,
   "metadata": {},
   "outputs": [],
   "source": [
    "# helper funcs\n",
    "\n",
    "@ti.func\n",
    "def wrap_borders(x: ti.template(), y: ti.template()):\n",
    "    if x > width:\n",
    "        x -= width\n",
    "    elif x <= 0:\n",
    "        x += width\n",
    "    if y > width:\n",
    "        y -= height\n",
    "    elif y <= 0:\n",
    "        y += height\n",
    "    return x, y\n",
    "\n",
    "@ti.func\n",
    "def wrap_diffs(x: ti.template(), y: ti.template(), dx: ti.template(), dy:ti.template()):\n",
    "    x_, y_ = x+dx, y+dy\n",
    "    xnew, ynew = wrap_borders(x_, y_)\n",
    "    dx, dy = xnew - x, ynew - y\n",
    "    return dx, dy\n",
    "\n",
    "@ti.kernel\n",
    "def compute_complexity(t: ti.i32):\n",
    "    # just macro temperature for now; FIXME make grid out of this\n",
    "    # params R, V, F\n",
    "    for prtcl in range(N):\n",
    "        vx = V[t, prtcl][0]\n",
    "        vy = V[t, prtcl][1]\n",
    "        vsquare = vx * vx + vy * vy\n",
    "        # ti.atomic_add(complexity, vsquare / Ndim)\n",
    "        ti.atomic_add(complexity,  vsquare / Ndim)\n",
    "\n",
    "@ti.kernel\n",
    "def apply_grad():\n",
    "    # gradient descent on scalar parameters\n",
    "    # params[i][None] -= lr * params[i].grad[None] # for loop doesnt seem to work\n",
    "    repelling_force[None] -= lr * repelling_force.grad[None]\n",
    "    temperature[None] -= lr * temperature.grad[None]\n",
    "    friction_coef[None] -= lr * friction_coef.grad[None]\n",
    "    separation_radius[None] -= lr * separation_radius.grad[None]\n",
    "    interaction_radius[None] -= lr * interaction_radius.grad[None]\n",
    "    force_strength[None] -= lr * force_strength.grad[None]\n",
    "    close_range_factor[None] -= lr * close_range_factor.grad[None]\n",
    "    dist_range_factor[None] -= lr * dist_range_factor.grad[None]\n",
    "    stdev[None] -= lr * stdev.grad[None]\n",
    "    seed_range[None] -= lr * seed_range.grad[None]"
   ]
  },
  {
   "cell_type": "code",
   "execution_count": 381,
   "metadata": {},
   "outputs": [],
   "source": [
    "# physical kernels: attract, friction, update_system\n",
    "\n",
    "@ti.kernel\n",
    "def attract(t: ti.i32):\n",
    "    # params F, R\n",
    "    # updates Fupdated\n",
    "    for a in range(N): # <-- gets vectorized <3\n",
    "        for b in range(N): # <--- gets serialized :-(\n",
    "\n",
    "            ra, rb = R[t-1, a], R[t-1, b]\n",
    "            \n",
    "            dx, dy = ra[0] - rb[0], ra[1] - rb[1]\n",
    "    \n",
    "            dx, dy = wrap_borders(dx, dy) # wrap borders\n",
    "            \n",
    "            Dxy[t, a, b][0] = dy\n",
    "            Dxy[t, a, b][1] = dx\n",
    "\n",
    "            xdoty = dx*dx + dy*dy\n",
    "            dr = ti.sqrt(xdoty)\n",
    "            inv_dr_2 = 1/(xdoty) # for each pair of particles, their euclidean distance\n",
    "\n",
    "\n",
    "            f = close_range_factor * (inv_dr_2)\n",
    "            # increase force at long range again\n",
    "            f += (dist_range_factor - close_range_factor) * (dr * dy)\n",
    "            f *= intrprtcl_f[a, b] # weight by randomly sampled interparticle force (depends on species)\n",
    "            \n",
    "            # add contributions from all particles b to entry a\n",
    "            increment_vector_inplace(Fupdated[t, a], f, dy, dx)\n",
    "            \n",
    "@ti.kernel\n",
    "def friction(t: ti.i32):\n",
    "    # params V, R\n",
    "    # updates Fupdated\n",
    "    \n",
    "    for prtcl in range(N):\n",
    "        vx, vy = V[t, prtcl]\n",
    "        v = ti.sqrt(vx * vx + vy * vy)\n",
    "        theta = ti.atan2(vy, vx)\n",
    "\n",
    "        ffx = friction_coef[None] * v * ti.cos(theta) + ti.randn() * temperature\n",
    "        ffy = friction_coef[None] * v * ti.sin(theta) + ti.randn() * temperature\n",
    "\n",
    "        Fupdated[t, prtcl][0] += ffx\n",
    "        Fupdated[t, prtcl][0] += ffx\n",
    "\n",
    "        \n",
    "@ti.kernel\n",
    "def update_system(t: ti.i32):\n",
    "    # params R, V, Fupdated, dt\n",
    "    # updates R, V, F\n",
    "\n",
    "    # this loop gets vectorized:\n",
    "    for prtcl in range(N):\n",
    "        dx = V[t, prtcl][0] * dt\n",
    "        dy = V[t, prtcl][1] * dt\n",
    "        dx, dy = wrap_diffs(R[t, prtcl][0], R[t, prtcl][1], dx, dy)\n",
    "        R[t, prtcl][0] += dx\n",
    "        R[t, prtcl][1] += dy\n",
    "        V[t, prtcl][0] -= Fupdated[t, prtcl][0] * dt\n",
    "        V[t, prtcl][1] -= Fupdated[t, prtcl][1] * dt\n",
    "        F[t, prtcl] = Fupdated[t, prtcl]"
   ]
  },
  {
   "cell_type": "code",
   "execution_count": 399,
   "metadata": {},
   "outputs": [],
   "source": [
    "# main forward function that calls into ti.kernels\n",
    "\n",
    "# this function calls into the ti.kernels:\n",
    "def forward():\n",
    "    # update friction_coef.grad:\n",
    "    with ti.Tape(complexity): \n",
    "        for _ in range(1):\n",
    "            # should these be in tape scope? FIXME\n",
    "            set_ti_scalars()\n",
    "            set_ti_vectors(0)\n",
    "            # do simulation for many steps\n",
    "            for t in range(steps):\n",
    "                attract(t)\n",
    "                friction(t)\n",
    "                update_system(t)\n",
    "\n",
    "                if display:\n",
    "                    particles_display = np.zeros(shape=(N, dim), dtype=np.float32)\n",
    "                    for prtcl in range(N):\n",
    "                        particles_display[prtcl, 0] = R[t, prtcl][0]\n",
    "                        particles_display[prtcl, 1] = R[t, prtcl][1]\n",
    "\n",
    "                    particles_disp = plt.scatter(particles_display.T[0], particles_display.T[1], \n",
    "                        marker='.', c=\"b\")\n",
    "\n",
    "            # sets param.grad\n",
    "            compute_complexity(t)\n",
    "    apply_grad()\n"
   ]
  },
  {
   "cell_type": "code",
   "execution_count": 400,
   "metadata": {},
   "outputs": [
    {
     "ename": "RuntimeError",
     "evalue": "[statements.inc.h:visit@38] Not supported.",
     "output_type": "error",
     "traceback": [
      "\u001b[0;31m---------------------------------------------------------------------------\u001b[0m",
      "\u001b[0;31mRuntimeError\u001b[0m                              Traceback (most recent call last)",
      "\u001b[0;32m<ipython-input-400-dcae8b8982c6>\u001b[0m in \u001b[0;36m<module>\u001b[0;34m\u001b[0m\n\u001b[0;32m----> 1\u001b[0;31m \u001b[0mforward\u001b[0m\u001b[0;34m(\u001b[0m\u001b[0;34m)\u001b[0m\u001b[0;34m\u001b[0m\u001b[0;34m\u001b[0m\u001b[0m\n\u001b[0m",
      "\u001b[0;32m<ipython-input-399-52a85d2741b0>\u001b[0m in \u001b[0;36mforward\u001b[0;34m()\u001b[0m\n\u001b[1;32m     25\u001b[0m \u001b[0;34m\u001b[0m\u001b[0m\n\u001b[1;32m     26\u001b[0m             \u001b[0;31m# sets param.grad\u001b[0m\u001b[0;34m\u001b[0m\u001b[0;34m\u001b[0m\u001b[0;34m\u001b[0m\u001b[0m\n\u001b[0;32m---> 27\u001b[0;31m             \u001b[0mcompute_complexity\u001b[0m\u001b[0;34m(\u001b[0m\u001b[0mt\u001b[0m\u001b[0;34m)\u001b[0m\u001b[0;34m\u001b[0m\u001b[0;34m\u001b[0m\u001b[0m\n\u001b[0m\u001b[1;32m     28\u001b[0m     \u001b[0mapply_grad\u001b[0m\u001b[0;34m(\u001b[0m\u001b[0;34m)\u001b[0m\u001b[0;34m\u001b[0m\u001b[0;34m\u001b[0m\u001b[0m\n",
      "\u001b[0;32m~/fun/simulation/simz/lib/python3.8/site-packages/taichi/lang/tape.py\u001b[0m in \u001b[0;36m__exit__\u001b[0;34m(self, type, value, tb)\u001b[0m\n\u001b[1;32m     16\u001b[0m         \u001b[0mself\u001b[0m\u001b[0;34m.\u001b[0m\u001b[0mruntime\u001b[0m\u001b[0;34m.\u001b[0m\u001b[0mtarget_tape\u001b[0m \u001b[0;34m=\u001b[0m \u001b[0;32mNone\u001b[0m\u001b[0;34m\u001b[0m\u001b[0;34m\u001b[0m\u001b[0m\n\u001b[1;32m     17\u001b[0m         \u001b[0;32mif\u001b[0m \u001b[0mself\u001b[0m\u001b[0;34m.\u001b[0m\u001b[0meval_on_exit\u001b[0m\u001b[0;34m:\u001b[0m\u001b[0;34m\u001b[0m\u001b[0;34m\u001b[0m\u001b[0m\n\u001b[0;32m---> 18\u001b[0;31m             \u001b[0mself\u001b[0m\u001b[0;34m.\u001b[0m\u001b[0mgrad\u001b[0m\u001b[0;34m(\u001b[0m\u001b[0;34m)\u001b[0m\u001b[0;34m\u001b[0m\u001b[0;34m\u001b[0m\u001b[0m\n\u001b[0m\u001b[1;32m     19\u001b[0m \u001b[0;34m\u001b[0m\u001b[0m\n\u001b[1;32m     20\u001b[0m     \u001b[0;32mdef\u001b[0m \u001b[0minsert\u001b[0m\u001b[0;34m(\u001b[0m\u001b[0mself\u001b[0m\u001b[0;34m,\u001b[0m \u001b[0mfunc\u001b[0m\u001b[0;34m,\u001b[0m \u001b[0margs\u001b[0m\u001b[0;34m)\u001b[0m\u001b[0;34m:\u001b[0m\u001b[0;34m\u001b[0m\u001b[0;34m\u001b[0m\u001b[0m\n",
      "\u001b[0;32m~/fun/simulation/simz/lib/python3.8/site-packages/taichi/lang/tape.py\u001b[0m in \u001b[0;36mgrad\u001b[0;34m(self)\u001b[0m\n\u001b[1;32m     25\u001b[0m         \u001b[0;32massert\u001b[0m \u001b[0mself\u001b[0m\u001b[0;34m.\u001b[0m\u001b[0mgradient_evaluated\u001b[0m \u001b[0;34m==\u001b[0m \u001b[0;32mFalse\u001b[0m\u001b[0;34m,\u001b[0m \u001b[0;34m\"Gradients of grad can be evaluated only once.\"\u001b[0m\u001b[0;34m\u001b[0m\u001b[0;34m\u001b[0m\u001b[0m\n\u001b[1;32m     26\u001b[0m         \u001b[0;32mfor\u001b[0m \u001b[0mfunc\u001b[0m\u001b[0;34m,\u001b[0m \u001b[0margs\u001b[0m \u001b[0;32min\u001b[0m \u001b[0mreversed\u001b[0m\u001b[0;34m(\u001b[0m\u001b[0mself\u001b[0m\u001b[0;34m.\u001b[0m\u001b[0mcalls\u001b[0m\u001b[0;34m)\u001b[0m\u001b[0;34m:\u001b[0m\u001b[0;34m\u001b[0m\u001b[0;34m\u001b[0m\u001b[0m\n\u001b[0;32m---> 27\u001b[0;31m             \u001b[0mfunc\u001b[0m\u001b[0;34m.\u001b[0m\u001b[0mgrad\u001b[0m\u001b[0;34m(\u001b[0m\u001b[0;34m*\u001b[0m\u001b[0margs\u001b[0m\u001b[0;34m)\u001b[0m\u001b[0;34m\u001b[0m\u001b[0;34m\u001b[0m\u001b[0m\n\u001b[0m\u001b[1;32m     28\u001b[0m         \u001b[0mself\u001b[0m\u001b[0;34m.\u001b[0m\u001b[0mgradient_evaluated\u001b[0m \u001b[0;34m=\u001b[0m \u001b[0;32mTrue\u001b[0m\u001b[0;34m\u001b[0m\u001b[0;34m\u001b[0m\u001b[0m\n",
      "\u001b[0;32m~/fun/simulation/simz/lib/python3.8/site-packages/taichi/lang/shell.py\u001b[0m in \u001b[0;36mnew_call\u001b[0;34m(*args, **kwargs)\u001b[0m\n\u001b[1;32m     38\u001b[0m     \u001b[0;32mdef\u001b[0m \u001b[0mnew_call\u001b[0m\u001b[0;34m(\u001b[0m\u001b[0;34m*\u001b[0m\u001b[0margs\u001b[0m\u001b[0;34m,\u001b[0m \u001b[0;34m**\u001b[0m\u001b[0mkwargs\u001b[0m\u001b[0;34m)\u001b[0m\u001b[0;34m:\u001b[0m\u001b[0;34m\u001b[0m\u001b[0;34m\u001b[0m\u001b[0m\n\u001b[1;32m     39\u001b[0m         \u001b[0m_taichi_skip_traceback\u001b[0m \u001b[0;34m=\u001b[0m \u001b[0;36m1\u001b[0m\u001b[0;34m\u001b[0m\u001b[0;34m\u001b[0m\u001b[0m\n\u001b[0;32m---> 40\u001b[0;31m         \u001b[0mret\u001b[0m \u001b[0;34m=\u001b[0m \u001b[0mold_call\u001b[0m\u001b[0;34m(\u001b[0m\u001b[0;34m*\u001b[0m\u001b[0margs\u001b[0m\u001b[0;34m,\u001b[0m \u001b[0;34m**\u001b[0m\u001b[0mkwargs\u001b[0m\u001b[0;34m)\u001b[0m\u001b[0;34m\u001b[0m\u001b[0;34m\u001b[0m\u001b[0m\n\u001b[0m\u001b[1;32m     41\u001b[0m         \u001b[0;31m# print's in kernel won't take effect until ti.sync(), discussion:\u001b[0m\u001b[0;34m\u001b[0m\u001b[0;34m\u001b[0m\u001b[0;34m\u001b[0m\u001b[0m\n\u001b[1;32m     42\u001b[0m         \u001b[0;31m# https://github.com/taichi-dev/taichi/pull/1303#discussion_r444897102\u001b[0m\u001b[0;34m\u001b[0m\u001b[0;34m\u001b[0m\u001b[0;34m\u001b[0m\u001b[0m\n",
      "\u001b[0;32m~/fun/simulation/simz/lib/python3.8/site-packages/taichi/lang/kernel_impl.py\u001b[0m in \u001b[0;36m__call__\u001b[0;34m(self, *args, **kwargs)\u001b[0m\n\u001b[1;32m    561\u001b[0m         \u001b[0;32massert\u001b[0m \u001b[0mlen\u001b[0m\u001b[0;34m(\u001b[0m\u001b[0mkwargs\u001b[0m\u001b[0;34m)\u001b[0m \u001b[0;34m==\u001b[0m \u001b[0;36m0\u001b[0m\u001b[0;34m,\u001b[0m \u001b[0;34m'kwargs not supported for Taichi kernels'\u001b[0m\u001b[0;34m\u001b[0m\u001b[0;34m\u001b[0m\u001b[0m\n\u001b[1;32m    562\u001b[0m         \u001b[0mkey\u001b[0m \u001b[0;34m=\u001b[0m \u001b[0mself\u001b[0m\u001b[0;34m.\u001b[0m\u001b[0mensure_compiled\u001b[0m\u001b[0;34m(\u001b[0m\u001b[0;34m*\u001b[0m\u001b[0margs\u001b[0m\u001b[0;34m)\u001b[0m\u001b[0;34m\u001b[0m\u001b[0;34m\u001b[0m\u001b[0m\n\u001b[0;32m--> 563\u001b[0;31m         \u001b[0;32mreturn\u001b[0m \u001b[0mself\u001b[0m\u001b[0;34m.\u001b[0m\u001b[0mcompiled_functions\u001b[0m\u001b[0;34m[\u001b[0m\u001b[0mkey\u001b[0m\u001b[0;34m]\u001b[0m\u001b[0;34m(\u001b[0m\u001b[0;34m*\u001b[0m\u001b[0margs\u001b[0m\u001b[0;34m)\u001b[0m\u001b[0;34m\u001b[0m\u001b[0;34m\u001b[0m\u001b[0m\n\u001b[0m\u001b[1;32m    564\u001b[0m \u001b[0;34m\u001b[0m\u001b[0m\n\u001b[1;32m    565\u001b[0m \u001b[0;34m\u001b[0m\u001b[0m\n",
      "\u001b[0;32m~/fun/simulation/simz/lib/python3.8/site-packages/taichi/lang/kernel_impl.py\u001b[0m in \u001b[0;36mfunc__\u001b[0;34m(*args)\u001b[0m\n\u001b[1;32m    515\u001b[0m                 \u001b[0mself\u001b[0m\u001b[0;34m.\u001b[0m\u001b[0mruntime\u001b[0m\u001b[0;34m.\u001b[0m\u001b[0mtarget_tape\u001b[0m\u001b[0;34m.\u001b[0m\u001b[0minsert\u001b[0m\u001b[0;34m(\u001b[0m\u001b[0mself\u001b[0m\u001b[0;34m,\u001b[0m \u001b[0margs\u001b[0m\u001b[0;34m)\u001b[0m\u001b[0;34m\u001b[0m\u001b[0;34m\u001b[0m\u001b[0m\n\u001b[1;32m    516\u001b[0m \u001b[0;34m\u001b[0m\u001b[0m\n\u001b[0;32m--> 517\u001b[0;31m             \u001b[0mt_kernel\u001b[0m\u001b[0;34m(\u001b[0m\u001b[0mlaunch_ctx\u001b[0m\u001b[0;34m)\u001b[0m\u001b[0;34m\u001b[0m\u001b[0;34m\u001b[0m\u001b[0m\n\u001b[0m\u001b[1;32m    518\u001b[0m \u001b[0;34m\u001b[0m\u001b[0m\n\u001b[1;32m    519\u001b[0m             \u001b[0mret\u001b[0m \u001b[0;34m=\u001b[0m \u001b[0;32mNone\u001b[0m\u001b[0;34m\u001b[0m\u001b[0;34m\u001b[0m\u001b[0m\n",
      "\u001b[0;31mRuntimeError\u001b[0m: [statements.inc.h:visit@38] Not supported."
     ]
    },
    {
     "data": {
      "image/png": "[encoded data removed]",
      "text/plain": [
       "<Figure size 432x288 with 1 Axes>"
      ]
     },
     "metadata": {},
     "output_type": "display_data"
    }
   ],
   "source": [
    "forward()"
   ]
  },
  {
   "cell_type": "markdown",
   "metadata": {
    "id": "EREdLt3gZoBG"
   },
   "source": [
    "Next, let's take the derivative of the complexity with respect to the input parameter (separation radius) and vectorize it over the ensemble of initial positions.\n"
   ]
  },
  {
   "cell_type": "code",
   "execution_count": 401,
   "metadata": {},
   "outputs": [
    {
     "data": {
      "text/plain": [
       "1.0"
      ]
     },
     "execution_count": 401,
     "metadata": {},
     "output_type": "execute_result"
    }
   ],
   "source": [
    "complexity.grad[None]"
   ]
  },
  {
   "cell_type": "code",
   "execution_count": null,
   "metadata": {},
   "outputs": [],
   "source": []
  },
  {
   "cell_type": "code",
   "execution_count": null,
   "metadata": {},
   "outputs": [],
   "source": []
  },
  {
   "cell_type": "code",
   "execution_count": null,
   "metadata": {},
   "outputs": [],
   "source": []
  },
  {
   "cell_type": "code",
   "execution_count": null,
   "metadata": {},
   "outputs": [],
   "source": []
  }
 ],
 "metadata": {
  "accelerator": "GPU",
  "colab": {
   "collapsed_sections": [],
   "include_colab_link": true,
   "name": "Differentiating Through Dynamics.ipynb",
   "provenance": []
  },
  "kernelspec": {
   "display_name": "simz",
   "language": "python",
   "name": "simz"
  },
  "language_info": {
   "codemirror_mode": {
    "name": "ipython",
    "version": 3
   },
   "file_extension": ".py",
   "mimetype": "text/x-python",
   "name": "python",
   "nbconvert_exporter": "python",
   "pygments_lexer": "ipython3",
   "version": "3.8.6"
  }
 },
 "nbformat": 4,
 "nbformat_minor": 4
}
